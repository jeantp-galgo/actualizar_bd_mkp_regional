{
 "cells": [
  {
   "cell_type": "code",
   "execution_count": 4,
   "metadata": {},
   "outputs": [],
   "source": [
    "from mongodb.utils import mongodb_funciones\n",
    "from google_sheet.utils import *\n",
    "from utils.utils import *\n",
    "import pandas as pd"
   ]
  },
  {
   "cell_type": "code",
   "execution_count": 5,
   "metadata": {},
   "outputs": [
    {
     "name": "stdout",
     "output_type": "stream",
     "text": [
      "MongoClient(host=['shared-shard-00-00.eh6ne.mongodb.net:27017', 'shared-shard-00-01.eh6ne.mongodb.net:27017', 'shared-shard-00-02.eh6ne.mongodb.net:27017'], document_class=dict, tz_aware=False, connect=True, replicaset='atlas-48izhi-shard-0', authsource='admin', tls=True)\n"
     ]
    }
   ],
   "source": [
    "# Crea una instancia de la clase mongodb_funciones\n",
    "mongo_func = mongodb_funciones()"
   ]
  },
  {
   "cell_type": "code",
   "execution_count": 3,
   "metadata": {},
   "outputs": [],
   "source": [
    "# Crea una instancia de la clase mongodb_funciones\n",
    "google_sheet_func = google_sheet_funciones()"
   ]
  },
  {
   "cell_type": "code",
   "execution_count": 4,
   "metadata": {},
   "outputs": [],
   "source": [
    "datos_bd = mongo_func.datos_con_aggregation_personalizado(\"publications\")"
   ]
  },
  {
   "cell_type": "code",
   "execution_count": 5,
   "metadata": {},
   "outputs": [],
   "source": [
    "#google_sheet_func.mostrar_hojas()"
   ]
  },
  {
   "cell_type": "code",
   "execution_count": 6,
   "metadata": {},
   "outputs": [],
   "source": [
    "hoja = google_sheet_func.seleccionar_hoja('Actualizaciones MKP Regional version 2')"
   ]
  },
  {
   "cell_type": "code",
   "execution_count": 7,
   "metadata": {},
   "outputs": [],
   "source": [
    "df_marketplace = pd.DataFrame(datos_bd)"
   ]
  },
  {
   "cell_type": "code",
   "execution_count": 8,
   "metadata": {},
   "outputs": [],
   "source": [
    "df_marketplace_copia = df_marketplace.copy()"
   ]
  },
  {
   "cell_type": "markdown",
   "metadata": {},
   "source": [
    "Verificar stock"
   ]
  },
  {
   "cell_type": "code",
   "execution_count": 9,
   "metadata": {},
   "outputs": [],
   "source": [
    "df_marketplace_copia['stock_final'] = df_marketplace_copia['stock'].apply(verificar_stock)"
   ]
  },
  {
   "cell_type": "markdown",
   "metadata": {},
   "source": [
    "Reordenar columnas"
   ]
  },
  {
   "cell_type": "code",
   "execution_count": 10,
   "metadata": {},
   "outputs": [],
   "source": [
    "df_marketplace_copia2 = df_marketplace_copia[['country', 'brand', 'categoryCode', 'model', 'year', 'price_base', 'price_net', 'published', 'colors', 'stock', 'stock_final']]"
   ]
  },
  {
   "cell_type": "code",
   "execution_count": 11,
   "metadata": {},
   "outputs": [],
   "source": [
    "df_marketplace_copia2 = traducir_nombres_columnas(df_marketplace_copia2)"
   ]
  },
  {
   "cell_type": "code",
   "execution_count": 12,
   "metadata": {},
   "outputs": [],
   "source": [
    "df_marketplace_copia2[df_marketplace_copia2['Precio neto'].isna()]\n",
    "df_marketplace_copia2['Precio neto'] = df_marketplace_copia2['Precio neto'].fillna(df_marketplace_copia2['Precio Base'])\n",
    "df_marketplace_copia2['Precio neto'] = df_marketplace_copia2['Precio neto'].astype(int)\n",
    "# Calculate the difference and create a new column 'Descuento'\n",
    "df_marketplace_copia2['Descuento'] = df_marketplace_copia2['Precio Base'] - df_marketplace_copia2['Precio neto']"
   ]
  },
  {
   "cell_type": "code",
   "execution_count": 13,
   "metadata": {},
   "outputs": [],
   "source": [
    "df_marketplace_copia2 = df_marketplace_copia2.drop(columns=[\"colors\", \"stock\"])"
   ]
  },
  {
   "cell_type": "code",
   "execution_count": 14,
   "metadata": {},
   "outputs": [],
   "source": [
    "df_marketplace_copia2 = df_marketplace_copia2.rename(columns={\"stock_final\": \"Stock\"})"
   ]
  },
  {
   "cell_type": "code",
   "execution_count": 15,
   "metadata": {},
   "outputs": [
    {
     "data": {
      "text/html": [
       "<div>\n",
       "<style scoped>\n",
       "    .dataframe tbody tr th:only-of-type {\n",
       "        vertical-align: middle;\n",
       "    }\n",
       "\n",
       "    .dataframe tbody tr th {\n",
       "        vertical-align: top;\n",
       "    }\n",
       "\n",
       "    .dataframe thead th {\n",
       "        text-align: right;\n",
       "    }\n",
       "</style>\n",
       "<table border=\"1\" class=\"dataframe\">\n",
       "  <thead>\n",
       "    <tr style=\"text-align: right;\">\n",
       "      <th></th>\n",
       "      <th>country</th>\n",
       "      <th>Marca</th>\n",
       "      <th>categoryCode</th>\n",
       "      <th>Modelo</th>\n",
       "      <th>Año</th>\n",
       "      <th>Precio Base</th>\n",
       "      <th>Precio neto</th>\n",
       "      <th>Publicado</th>\n",
       "      <th>Stock</th>\n",
       "      <th>Descuento</th>\n",
       "    </tr>\n",
       "  </thead>\n",
       "  <tbody>\n",
       "    <tr>\n",
       "      <th>0</th>\n",
       "      <td>CL</td>\n",
       "      <td>Eve Motors</td>\n",
       "      <td>CL-MOTORCYCLES</td>\n",
       "      <td>JGW</td>\n",
       "      <td>2023</td>\n",
       "      <td>1100000</td>\n",
       "      <td>1100000</td>\n",
       "      <td>True</td>\n",
       "      <td>True</td>\n",
       "      <td>0</td>\n",
       "    </tr>\n",
       "    <tr>\n",
       "      <th>1</th>\n",
       "      <td>PE</td>\n",
       "      <td>Semza</td>\n",
       "      <td>PE-MOTORCYCLES</td>\n",
       "      <td>Spark 200</td>\n",
       "      <td>2023</td>\n",
       "      <td>7700</td>\n",
       "      <td>7700</td>\n",
       "      <td>True</td>\n",
       "      <td>False</td>\n",
       "      <td>0</td>\n",
       "    </tr>\n",
       "    <tr>\n",
       "      <th>2</th>\n",
       "      <td>MX</td>\n",
       "      <td>Yamaha</td>\n",
       "      <td>MX-MOTORCYCLES</td>\n",
       "      <td>MT 09 2024</td>\n",
       "      <td>2024</td>\n",
       "      <td>299999</td>\n",
       "      <td>299999</td>\n",
       "      <td>True</td>\n",
       "      <td>True</td>\n",
       "      <td>0</td>\n",
       "    </tr>\n",
       "    <tr>\n",
       "      <th>3</th>\n",
       "      <td>CL</td>\n",
       "      <td>Loncin</td>\n",
       "      <td>CL-MOTORCYCLES</td>\n",
       "      <td>GA300 PRO</td>\n",
       "      <td>2024</td>\n",
       "      <td>4150000</td>\n",
       "      <td>3990000</td>\n",
       "      <td>True</td>\n",
       "      <td>True</td>\n",
       "      <td>160000</td>\n",
       "    </tr>\n",
       "    <tr>\n",
       "      <th>4</th>\n",
       "      <td>CL</td>\n",
       "      <td>Kymco</td>\n",
       "      <td>CL-MOTORCYCLES</td>\n",
       "      <td>Agility RS 125</td>\n",
       "      <td>2024</td>\n",
       "      <td>1599900</td>\n",
       "      <td>1589900</td>\n",
       "      <td>True</td>\n",
       "      <td>False</td>\n",
       "      <td>10000</td>\n",
       "    </tr>\n",
       "    <tr>\n",
       "      <th>...</th>\n",
       "      <td>...</td>\n",
       "      <td>...</td>\n",
       "      <td>...</td>\n",
       "      <td>...</td>\n",
       "      <td>...</td>\n",
       "      <td>...</td>\n",
       "      <td>...</td>\n",
       "      <td>...</td>\n",
       "      <td>...</td>\n",
       "      <td>...</td>\n",
       "    </tr>\n",
       "    <tr>\n",
       "      <th>2481</th>\n",
       "      <td>MX</td>\n",
       "      <td>Vento</td>\n",
       "      <td>MX-MOTORCYCLES</td>\n",
       "      <td>Xplor 190 2025</td>\n",
       "      <td>2025</td>\n",
       "      <td>26999</td>\n",
       "      <td>24999</td>\n",
       "      <td>True</td>\n",
       "      <td>True</td>\n",
       "      <td>2000</td>\n",
       "    </tr>\n",
       "    <tr>\n",
       "      <th>2482</th>\n",
       "      <td>PE</td>\n",
       "      <td>Zongshen</td>\n",
       "      <td>PE-MOTORCYCLES</td>\n",
       "      <td>Evo 125</td>\n",
       "      <td>2023</td>\n",
       "      <td>5107</td>\n",
       "      <td>4864</td>\n",
       "      <td>True</td>\n",
       "      <td>False</td>\n",
       "      <td>243</td>\n",
       "    </tr>\n",
       "    <tr>\n",
       "      <th>2483</th>\n",
       "      <td>MX</td>\n",
       "      <td>Bajaj</td>\n",
       "      <td>MX-MOTORCYCLES</td>\n",
       "      <td>Pulsar N 250 2023</td>\n",
       "      <td>2023</td>\n",
       "      <td>59999</td>\n",
       "      <td>59999</td>\n",
       "      <td>True</td>\n",
       "      <td>False</td>\n",
       "      <td>0</td>\n",
       "    </tr>\n",
       "    <tr>\n",
       "      <th>2484</th>\n",
       "      <td>CO</td>\n",
       "      <td>Super Soco</td>\n",
       "      <td>CO-MOTORCYCLES</td>\n",
       "      <td>Cux 2022</td>\n",
       "      <td>2022</td>\n",
       "      <td>8999000</td>\n",
       "      <td>8999000</td>\n",
       "      <td>True</td>\n",
       "      <td>True</td>\n",
       "      <td>0</td>\n",
       "    </tr>\n",
       "    <tr>\n",
       "      <th>2485</th>\n",
       "      <td>MX</td>\n",
       "      <td>Bajaj</td>\n",
       "      <td>MX-MOTORCYCLES</td>\n",
       "      <td>Pulsar NS 160 UG 2024</td>\n",
       "      <td>2024</td>\n",
       "      <td>47199</td>\n",
       "      <td>41199</td>\n",
       "      <td>True</td>\n",
       "      <td>True</td>\n",
       "      <td>6000</td>\n",
       "    </tr>\n",
       "  </tbody>\n",
       "</table>\n",
       "<p>2486 rows × 10 columns</p>\n",
       "</div>"
      ],
      "text/plain": [
       "     country       Marca    categoryCode                 Modelo   Año  \\\n",
       "0         CL  Eve Motors  CL-MOTORCYCLES                    JGW  2023   \n",
       "1         PE       Semza  PE-MOTORCYCLES              Spark 200  2023   \n",
       "2         MX      Yamaha  MX-MOTORCYCLES             MT 09 2024  2024   \n",
       "3         CL      Loncin  CL-MOTORCYCLES              GA300 PRO  2024   \n",
       "4         CL       Kymco  CL-MOTORCYCLES         Agility RS 125  2024   \n",
       "...      ...         ...             ...                    ...   ...   \n",
       "2481      MX       Vento  MX-MOTORCYCLES         Xplor 190 2025  2025   \n",
       "2482      PE    Zongshen  PE-MOTORCYCLES                Evo 125  2023   \n",
       "2483      MX       Bajaj  MX-MOTORCYCLES      Pulsar N 250 2023  2023   \n",
       "2484      CO  Super Soco  CO-MOTORCYCLES               Cux 2022  2022   \n",
       "2485      MX       Bajaj  MX-MOTORCYCLES  Pulsar NS 160 UG 2024  2024   \n",
       "\n",
       "      Precio Base  Precio neto  Publicado  Stock  Descuento  \n",
       "0         1100000      1100000       True   True          0  \n",
       "1            7700         7700       True  False          0  \n",
       "2          299999       299999       True   True          0  \n",
       "3         4150000      3990000       True   True     160000  \n",
       "4         1599900      1589900       True  False      10000  \n",
       "...           ...          ...        ...    ...        ...  \n",
       "2481        26999        24999       True   True       2000  \n",
       "2482         5107         4864       True  False        243  \n",
       "2483        59999        59999       True  False          0  \n",
       "2484      8999000      8999000       True   True          0  \n",
       "2485        47199        41199       True   True       6000  \n",
       "\n",
       "[2486 rows x 10 columns]"
      ]
     },
     "execution_count": 15,
     "metadata": {},
     "output_type": "execute_result"
    }
   ],
   "source": [
    "df_marketplace_copia2"
   ]
  },
  {
   "cell_type": "code",
   "execution_count": 16,
   "metadata": {},
   "outputs": [],
   "source": [
    "# Definir el nuevo orden de columnas\n",
    "nuevo_orden = [\"country\", 'categoryCode', 'Marca', 'Modelo', 'Año', 'Precio Base', 'Precio neto', 'Descuento', 'Publicado', 'Stock']\n",
    "\n",
    "# Reordenar el DataFrame\n",
    "df_marketplace_copia2 = df_marketplace_copia2[nuevo_orden]"
   ]
  },
  {
   "cell_type": "markdown",
   "metadata": {},
   "source": [
    "### Base completa"
   ]
  },
  {
   "cell_type": "code",
   "execution_count": 17,
   "metadata": {},
   "outputs": [
    {
     "data": {
      "text/plain": [
       "array(['CL-MOTORCYCLES', 'PE-MOTORCYCLES', 'MX-MOTORCYCLES',\n",
       "       'CO-MOTORCYCLES', 'CL-CARS', 'CO-CARS'], dtype=object)"
      ]
     },
     "execution_count": 17,
     "metadata": {},
     "output_type": "execute_result"
    }
   ],
   "source": [
    "df_marketplace[\"categoryCode\"].unique()"
   ]
  },
  {
   "cell_type": "markdown",
   "metadata": {},
   "source": [
    "### Separar por paises"
   ]
  },
  {
   "cell_type": "markdown",
   "metadata": {},
   "source": [
    "México"
   ]
  },
  {
   "cell_type": "code",
   "execution_count": 18,
   "metadata": {},
   "outputs": [],
   "source": [
    "df_marketplace_copia_mx_motos = df_marketplace_copia2[(df_marketplace_copia2['country'] == \"MX\") & (df_marketplace_copia2['categoryCode'] == \"MX-MOTORCYCLES\")]"
   ]
  },
  {
   "cell_type": "markdown",
   "metadata": {},
   "source": [
    "Chile"
   ]
  },
  {
   "cell_type": "code",
   "execution_count": 19,
   "metadata": {},
   "outputs": [],
   "source": [
    "df_marketplace_copia_cl_motos = df_marketplace_copia2[(df_marketplace_copia2['country'] == \"CL\") & (df_marketplace_copia2['categoryCode'] == \"CL-MOTORCYCLES\")]"
   ]
  },
  {
   "cell_type": "code",
   "execution_count": 20,
   "metadata": {},
   "outputs": [],
   "source": [
    "df_marketplace_copia_cl_autos = df_marketplace_copia2[(df_marketplace_copia2['country'] == \"CL\") & (df_marketplace_copia2['categoryCode'] == \"CL-CARS\")]"
   ]
  },
  {
   "cell_type": "markdown",
   "metadata": {},
   "source": [
    "Colombia"
   ]
  },
  {
   "cell_type": "code",
   "execution_count": 21,
   "metadata": {},
   "outputs": [],
   "source": [
    "df_marketplace_copia_co_motos = df_marketplace_copia2[(df_marketplace_copia2['country'] == \"CO\") & (df_marketplace_copia2['categoryCode'] == \"CO-MOTORCYCLES\")]"
   ]
  },
  {
   "cell_type": "markdown",
   "metadata": {},
   "source": [
    "Perú"
   ]
  },
  {
   "cell_type": "code",
   "execution_count": 22,
   "metadata": {},
   "outputs": [],
   "source": [
    "df_marketplace_copia_pe_motos = df_marketplace_copia2[(df_marketplace_copia2['country'] == \"PE\") & (df_marketplace_copia2['categoryCode'] == \"PE-MOTORCYCLES\")]"
   ]
  },
  {
   "cell_type": "code",
   "execution_count": 23,
   "metadata": {},
   "outputs": [
    {
     "data": {
      "text/html": [
       "<div>\n",
       "<style scoped>\n",
       "    .dataframe tbody tr th:only-of-type {\n",
       "        vertical-align: middle;\n",
       "    }\n",
       "\n",
       "    .dataframe tbody tr th {\n",
       "        vertical-align: top;\n",
       "    }\n",
       "\n",
       "    .dataframe thead th {\n",
       "        text-align: right;\n",
       "    }\n",
       "</style>\n",
       "<table border=\"1\" class=\"dataframe\">\n",
       "  <thead>\n",
       "    <tr style=\"text-align: right;\">\n",
       "      <th></th>\n",
       "      <th>country</th>\n",
       "      <th>categoryCode</th>\n",
       "      <th>Marca</th>\n",
       "      <th>Modelo</th>\n",
       "      <th>Año</th>\n",
       "      <th>Precio Base</th>\n",
       "      <th>Precio neto</th>\n",
       "      <th>Descuento</th>\n",
       "      <th>Publicado</th>\n",
       "      <th>Stock</th>\n",
       "    </tr>\n",
       "  </thead>\n",
       "  <tbody>\n",
       "    <tr>\n",
       "      <th>1</th>\n",
       "      <td>PE</td>\n",
       "      <td>PE-MOTORCYCLES</td>\n",
       "      <td>Semza</td>\n",
       "      <td>Spark 200</td>\n",
       "      <td>2023</td>\n",
       "      <td>7700</td>\n",
       "      <td>7700</td>\n",
       "      <td>0</td>\n",
       "      <td>True</td>\n",
       "      <td>False</td>\n",
       "    </tr>\n",
       "    <tr>\n",
       "      <th>5</th>\n",
       "      <td>PE</td>\n",
       "      <td>PE-MOTORCYCLES</td>\n",
       "      <td>Ssenda</td>\n",
       "      <td>Patagonia 250 V8</td>\n",
       "      <td>2023</td>\n",
       "      <td>13990</td>\n",
       "      <td>13990</td>\n",
       "      <td>0</td>\n",
       "      <td>True</td>\n",
       "      <td>False</td>\n",
       "    </tr>\n",
       "    <tr>\n",
       "      <th>7</th>\n",
       "      <td>PE</td>\n",
       "      <td>PE-MOTORCYCLES</td>\n",
       "      <td>Semza</td>\n",
       "      <td>Tank</td>\n",
       "      <td>2023</td>\n",
       "      <td>5600</td>\n",
       "      <td>5600</td>\n",
       "      <td>0</td>\n",
       "      <td>True</td>\n",
       "      <td>False</td>\n",
       "    </tr>\n",
       "    <tr>\n",
       "      <th>16</th>\n",
       "      <td>PE</td>\n",
       "      <td>PE-MOTORCYCLES</td>\n",
       "      <td>Bruno</td>\n",
       "      <td>250 RR</td>\n",
       "      <td>2023</td>\n",
       "      <td>8700</td>\n",
       "      <td>8700</td>\n",
       "      <td>0</td>\n",
       "      <td>True</td>\n",
       "      <td>False</td>\n",
       "    </tr>\n",
       "    <tr>\n",
       "      <th>20</th>\n",
       "      <td>PE</td>\n",
       "      <td>PE-MOTORCYCLES</td>\n",
       "      <td>Suzuki</td>\n",
       "      <td>GSX 250 FI</td>\n",
       "      <td>2023</td>\n",
       "      <td>20136</td>\n",
       "      <td>20136</td>\n",
       "      <td>0</td>\n",
       "      <td>True</td>\n",
       "      <td>False</td>\n",
       "    </tr>\n",
       "    <tr>\n",
       "      <th>...</th>\n",
       "      <td>...</td>\n",
       "      <td>...</td>\n",
       "      <td>...</td>\n",
       "      <td>...</td>\n",
       "      <td>...</td>\n",
       "      <td>...</td>\n",
       "      <td>...</td>\n",
       "      <td>...</td>\n",
       "      <td>...</td>\n",
       "      <td>...</td>\n",
       "    </tr>\n",
       "    <tr>\n",
       "      <th>2460</th>\n",
       "      <td>PE</td>\n",
       "      <td>PE-MOTORCYCLES</td>\n",
       "      <td>Kawasaki</td>\n",
       "      <td>Z900</td>\n",
       "      <td>2023</td>\n",
       "      <td>70000</td>\n",
       "      <td>70000</td>\n",
       "      <td>0</td>\n",
       "      <td>True</td>\n",
       "      <td>False</td>\n",
       "    </tr>\n",
       "    <tr>\n",
       "      <th>2463</th>\n",
       "      <td>PE</td>\n",
       "      <td>PE-MOTORCYCLES</td>\n",
       "      <td>Bruno</td>\n",
       "      <td>125 CG</td>\n",
       "      <td>2023</td>\n",
       "      <td>3600</td>\n",
       "      <td>3600</td>\n",
       "      <td>0</td>\n",
       "      <td>True</td>\n",
       "      <td>False</td>\n",
       "    </tr>\n",
       "    <tr>\n",
       "      <th>2473</th>\n",
       "      <td>PE</td>\n",
       "      <td>PE-MOTORCYCLES</td>\n",
       "      <td>TVS</td>\n",
       "      <td>Stryker</td>\n",
       "      <td>2022</td>\n",
       "      <td>5499</td>\n",
       "      <td>5499</td>\n",
       "      <td>0</td>\n",
       "      <td>True</td>\n",
       "      <td>False</td>\n",
       "    </tr>\n",
       "    <tr>\n",
       "      <th>2475</th>\n",
       "      <td>PE</td>\n",
       "      <td>PE-MOTORCYCLES</td>\n",
       "      <td>Bruno</td>\n",
       "      <td>125 T1</td>\n",
       "      <td>2023</td>\n",
       "      <td>4600</td>\n",
       "      <td>4600</td>\n",
       "      <td>0</td>\n",
       "      <td>True</td>\n",
       "      <td>False</td>\n",
       "    </tr>\n",
       "    <tr>\n",
       "      <th>2482</th>\n",
       "      <td>PE</td>\n",
       "      <td>PE-MOTORCYCLES</td>\n",
       "      <td>Zongshen</td>\n",
       "      <td>Evo 125</td>\n",
       "      <td>2023</td>\n",
       "      <td>5107</td>\n",
       "      <td>4864</td>\n",
       "      <td>243</td>\n",
       "      <td>True</td>\n",
       "      <td>False</td>\n",
       "    </tr>\n",
       "  </tbody>\n",
       "</table>\n",
       "<p>432 rows × 10 columns</p>\n",
       "</div>"
      ],
      "text/plain": [
       "     country    categoryCode     Marca            Modelo   Año  Precio Base  \\\n",
       "1         PE  PE-MOTORCYCLES     Semza         Spark 200  2023         7700   \n",
       "5         PE  PE-MOTORCYCLES    Ssenda  Patagonia 250 V8  2023        13990   \n",
       "7         PE  PE-MOTORCYCLES     Semza              Tank  2023         5600   \n",
       "16        PE  PE-MOTORCYCLES     Bruno            250 RR  2023         8700   \n",
       "20        PE  PE-MOTORCYCLES    Suzuki        GSX 250 FI  2023        20136   \n",
       "...      ...             ...       ...               ...   ...          ...   \n",
       "2460      PE  PE-MOTORCYCLES  Kawasaki              Z900  2023        70000   \n",
       "2463      PE  PE-MOTORCYCLES     Bruno            125 CG  2023         3600   \n",
       "2473      PE  PE-MOTORCYCLES       TVS           Stryker  2022         5499   \n",
       "2475      PE  PE-MOTORCYCLES     Bruno            125 T1  2023         4600   \n",
       "2482      PE  PE-MOTORCYCLES  Zongshen           Evo 125  2023         5107   \n",
       "\n",
       "      Precio neto  Descuento  Publicado  Stock  \n",
       "1            7700          0       True  False  \n",
       "5           13990          0       True  False  \n",
       "7            5600          0       True  False  \n",
       "16           8700          0       True  False  \n",
       "20          20136          0       True  False  \n",
       "...           ...        ...        ...    ...  \n",
       "2460        70000          0       True  False  \n",
       "2463         3600          0       True  False  \n",
       "2473         5499          0       True  False  \n",
       "2475         4600          0       True  False  \n",
       "2482         4864        243       True  False  \n",
       "\n",
       "[432 rows x 10 columns]"
      ]
     },
     "execution_count": 23,
     "metadata": {},
     "output_type": "execute_result"
    }
   ],
   "source": [
    "df_marketplace_copia_pe_motos"
   ]
  },
  {
   "cell_type": "code",
   "execution_count": 24,
   "metadata": {},
   "outputs": [
    {
     "data": {
      "text/html": [
       "<div>\n",
       "<style scoped>\n",
       "    .dataframe tbody tr th:only-of-type {\n",
       "        vertical-align: middle;\n",
       "    }\n",
       "\n",
       "    .dataframe tbody tr th {\n",
       "        vertical-align: top;\n",
       "    }\n",
       "\n",
       "    .dataframe thead th {\n",
       "        text-align: right;\n",
       "    }\n",
       "</style>\n",
       "<table border=\"1\" class=\"dataframe\">\n",
       "  <thead>\n",
       "    <tr style=\"text-align: right;\">\n",
       "      <th></th>\n",
       "      <th>country</th>\n",
       "      <th>categoryCode</th>\n",
       "      <th>Marca</th>\n",
       "      <th>Modelo</th>\n",
       "      <th>Año</th>\n",
       "      <th>Precio Base</th>\n",
       "      <th>Precio neto</th>\n",
       "      <th>Descuento</th>\n",
       "      <th>Publicado</th>\n",
       "      <th>Stock</th>\n",
       "    </tr>\n",
       "  </thead>\n",
       "  <tbody>\n",
       "    <tr>\n",
       "      <th>0</th>\n",
       "      <td>CL</td>\n",
       "      <td>CL-MOTORCYCLES</td>\n",
       "      <td>Eve Motors</td>\n",
       "      <td>JGW</td>\n",
       "      <td>2023</td>\n",
       "      <td>1100000</td>\n",
       "      <td>1100000</td>\n",
       "      <td>0</td>\n",
       "      <td>True</td>\n",
       "      <td>True</td>\n",
       "    </tr>\n",
       "    <tr>\n",
       "      <th>3</th>\n",
       "      <td>CL</td>\n",
       "      <td>CL-MOTORCYCLES</td>\n",
       "      <td>Loncin</td>\n",
       "      <td>GA300 PRO</td>\n",
       "      <td>2024</td>\n",
       "      <td>4150000</td>\n",
       "      <td>3990000</td>\n",
       "      <td>160000</td>\n",
       "      <td>True</td>\n",
       "      <td>True</td>\n",
       "    </tr>\n",
       "    <tr>\n",
       "      <th>4</th>\n",
       "      <td>CL</td>\n",
       "      <td>CL-MOTORCYCLES</td>\n",
       "      <td>Kymco</td>\n",
       "      <td>Agility RS 125</td>\n",
       "      <td>2024</td>\n",
       "      <td>1599900</td>\n",
       "      <td>1589900</td>\n",
       "      <td>10000</td>\n",
       "      <td>True</td>\n",
       "      <td>False</td>\n",
       "    </tr>\n",
       "    <tr>\n",
       "      <th>6</th>\n",
       "      <td>CL</td>\n",
       "      <td>CL-MOTORCYCLES</td>\n",
       "      <td>KTM</td>\n",
       "      <td>RC 200</td>\n",
       "      <td>2023</td>\n",
       "      <td>4150000</td>\n",
       "      <td>3390000</td>\n",
       "      <td>760000</td>\n",
       "      <td>True</td>\n",
       "      <td>True</td>\n",
       "    </tr>\n",
       "    <tr>\n",
       "      <th>18</th>\n",
       "      <td>CL</td>\n",
       "      <td>CL-MOTORCYCLES</td>\n",
       "      <td>Yamaha</td>\n",
       "      <td>FZ X</td>\n",
       "      <td>2023</td>\n",
       "      <td>2699000</td>\n",
       "      <td>2290000</td>\n",
       "      <td>409000</td>\n",
       "      <td>True</td>\n",
       "      <td>True</td>\n",
       "    </tr>\n",
       "    <tr>\n",
       "      <th>...</th>\n",
       "      <td>...</td>\n",
       "      <td>...</td>\n",
       "      <td>...</td>\n",
       "      <td>...</td>\n",
       "      <td>...</td>\n",
       "      <td>...</td>\n",
       "      <td>...</td>\n",
       "      <td>...</td>\n",
       "      <td>...</td>\n",
       "      <td>...</td>\n",
       "    </tr>\n",
       "    <tr>\n",
       "      <th>2439</th>\n",
       "      <td>CL</td>\n",
       "      <td>CL-MOTORCYCLES</td>\n",
       "      <td>Kawasaki</td>\n",
       "      <td>Z900 ABS</td>\n",
       "      <td>2023</td>\n",
       "      <td>12590000</td>\n",
       "      <td>12590000</td>\n",
       "      <td>0</td>\n",
       "      <td>True</td>\n",
       "      <td>False</td>\n",
       "    </tr>\n",
       "    <tr>\n",
       "      <th>2445</th>\n",
       "      <td>CL</td>\n",
       "      <td>CL-MOTORCYCLES</td>\n",
       "      <td>UM</td>\n",
       "      <td>Renegade Freedom 300</td>\n",
       "      <td>2023</td>\n",
       "      <td>4290000</td>\n",
       "      <td>4290000</td>\n",
       "      <td>0</td>\n",
       "      <td>True</td>\n",
       "      <td>True</td>\n",
       "    </tr>\n",
       "    <tr>\n",
       "      <th>2464</th>\n",
       "      <td>CL</td>\n",
       "      <td>CL-MOTORCYCLES</td>\n",
       "      <td>Daas Motors</td>\n",
       "      <td>LX 04</td>\n",
       "      <td>2023</td>\n",
       "      <td>1599000</td>\n",
       "      <td>1589000</td>\n",
       "      <td>10000</td>\n",
       "      <td>True</td>\n",
       "      <td>True</td>\n",
       "    </tr>\n",
       "    <tr>\n",
       "      <th>2474</th>\n",
       "      <td>CL</td>\n",
       "      <td>CL-MOTORCYCLES</td>\n",
       "      <td>Zongshen</td>\n",
       "      <td>Cyclone RA2</td>\n",
       "      <td>2024</td>\n",
       "      <td>2899900</td>\n",
       "      <td>2599900</td>\n",
       "      <td>300000</td>\n",
       "      <td>True</td>\n",
       "      <td>True</td>\n",
       "    </tr>\n",
       "    <tr>\n",
       "      <th>2476</th>\n",
       "      <td>CL</td>\n",
       "      <td>CL-MOTORCYCLES</td>\n",
       "      <td>Lifan</td>\n",
       "      <td>ATV Hammer 200</td>\n",
       "      <td>2023</td>\n",
       "      <td>2190000</td>\n",
       "      <td>2190000</td>\n",
       "      <td>0</td>\n",
       "      <td>True</td>\n",
       "      <td>False</td>\n",
       "    </tr>\n",
       "  </tbody>\n",
       "</table>\n",
       "<p>308 rows × 10 columns</p>\n",
       "</div>"
      ],
      "text/plain": [
       "     country    categoryCode        Marca                Modelo   Año  \\\n",
       "0         CL  CL-MOTORCYCLES   Eve Motors                   JGW  2023   \n",
       "3         CL  CL-MOTORCYCLES       Loncin             GA300 PRO  2024   \n",
       "4         CL  CL-MOTORCYCLES        Kymco        Agility RS 125  2024   \n",
       "6         CL  CL-MOTORCYCLES          KTM                RC 200  2023   \n",
       "18        CL  CL-MOTORCYCLES       Yamaha                  FZ X  2023   \n",
       "...      ...             ...          ...                   ...   ...   \n",
       "2439      CL  CL-MOTORCYCLES     Kawasaki              Z900 ABS  2023   \n",
       "2445      CL  CL-MOTORCYCLES           UM  Renegade Freedom 300  2023   \n",
       "2464      CL  CL-MOTORCYCLES  Daas Motors                 LX 04  2023   \n",
       "2474      CL  CL-MOTORCYCLES     Zongshen           Cyclone RA2  2024   \n",
       "2476      CL  CL-MOTORCYCLES        Lifan        ATV Hammer 200  2023   \n",
       "\n",
       "      Precio Base  Precio neto  Descuento  Publicado  Stock  \n",
       "0         1100000      1100000          0       True   True  \n",
       "3         4150000      3990000     160000       True   True  \n",
       "4         1599900      1589900      10000       True  False  \n",
       "6         4150000      3390000     760000       True   True  \n",
       "18        2699000      2290000     409000       True   True  \n",
       "...           ...          ...        ...        ...    ...  \n",
       "2439     12590000     12590000          0       True  False  \n",
       "2445      4290000      4290000          0       True   True  \n",
       "2464      1599000      1589000      10000       True   True  \n",
       "2474      2899900      2599900     300000       True   True  \n",
       "2476      2190000      2190000          0       True  False  \n",
       "\n",
       "[308 rows x 10 columns]"
      ]
     },
     "execution_count": 24,
     "metadata": {},
     "output_type": "execute_result"
    }
   ],
   "source": [
    "df_marketplace_copia_cl_motos"
   ]
  },
  {
   "cell_type": "markdown",
   "metadata": {},
   "source": [
    "Renombre de columna \"country\""
   ]
  },
  {
   "cell_type": "code",
   "execution_count": 25,
   "metadata": {},
   "outputs": [
    {
     "name": "stderr",
     "output_type": "stream",
     "text": [
      "C:\\Users\\Bradl\\AppData\\Local\\Temp\\ipykernel_14112\\693618495.py:12: SettingWithCopyWarning: \n",
      "A value is trying to be set on a copy of a slice from a DataFrame\n",
      "\n",
      "See the caveats in the documentation: https://pandas.pydata.org/pandas-docs/stable/user_guide/indexing.html#returning-a-view-versus-a-copy\n",
      "  df.rename(columns=rename_mapping, inplace=True)\n",
      "C:\\Users\\Bradl\\AppData\\Local\\Temp\\ipykernel_14112\\693618495.py:13: SettingWithCopyWarning: \n",
      "A value is trying to be set on a copy of a slice from a DataFrame\n",
      "\n",
      "See the caveats in the documentation: https://pandas.pydata.org/pandas-docs/stable/user_guide/indexing.html#returning-a-view-versus-a-copy\n",
      "  df.drop(columns=[\"categoryCode\"], inplace=True)\n",
      "C:\\Users\\Bradl\\AppData\\Local\\Temp\\ipykernel_14112\\693618495.py:12: SettingWithCopyWarning: \n",
      "A value is trying to be set on a copy of a slice from a DataFrame\n",
      "\n",
      "See the caveats in the documentation: https://pandas.pydata.org/pandas-docs/stable/user_guide/indexing.html#returning-a-view-versus-a-copy\n",
      "  df.rename(columns=rename_mapping, inplace=True)\n",
      "C:\\Users\\Bradl\\AppData\\Local\\Temp\\ipykernel_14112\\693618495.py:13: SettingWithCopyWarning: \n",
      "A value is trying to be set on a copy of a slice from a DataFrame\n",
      "\n",
      "See the caveats in the documentation: https://pandas.pydata.org/pandas-docs/stable/user_guide/indexing.html#returning-a-view-versus-a-copy\n",
      "  df.drop(columns=[\"categoryCode\"], inplace=True)\n",
      "C:\\Users\\Bradl\\AppData\\Local\\Temp\\ipykernel_14112\\693618495.py:12: SettingWithCopyWarning: \n",
      "A value is trying to be set on a copy of a slice from a DataFrame\n",
      "\n",
      "See the caveats in the documentation: https://pandas.pydata.org/pandas-docs/stable/user_guide/indexing.html#returning-a-view-versus-a-copy\n",
      "  df.rename(columns=rename_mapping, inplace=True)\n",
      "C:\\Users\\Bradl\\AppData\\Local\\Temp\\ipykernel_14112\\693618495.py:13: SettingWithCopyWarning: \n",
      "A value is trying to be set on a copy of a slice from a DataFrame\n",
      "\n",
      "See the caveats in the documentation: https://pandas.pydata.org/pandas-docs/stable/user_guide/indexing.html#returning-a-view-versus-a-copy\n",
      "  df.drop(columns=[\"categoryCode\"], inplace=True)\n",
      "C:\\Users\\Bradl\\AppData\\Local\\Temp\\ipykernel_14112\\693618495.py:12: SettingWithCopyWarning: \n",
      "A value is trying to be set on a copy of a slice from a DataFrame\n",
      "\n",
      "See the caveats in the documentation: https://pandas.pydata.org/pandas-docs/stable/user_guide/indexing.html#returning-a-view-versus-a-copy\n",
      "  df.rename(columns=rename_mapping, inplace=True)\n",
      "C:\\Users\\Bradl\\AppData\\Local\\Temp\\ipykernel_14112\\693618495.py:13: SettingWithCopyWarning: \n",
      "A value is trying to be set on a copy of a slice from a DataFrame\n",
      "\n",
      "See the caveats in the documentation: https://pandas.pydata.org/pandas-docs/stable/user_guide/indexing.html#returning-a-view-versus-a-copy\n",
      "  df.drop(columns=[\"categoryCode\"], inplace=True)\n",
      "C:\\Users\\Bradl\\AppData\\Local\\Temp\\ipykernel_14112\\693618495.py:12: SettingWithCopyWarning: \n",
      "A value is trying to be set on a copy of a slice from a DataFrame\n",
      "\n",
      "See the caveats in the documentation: https://pandas.pydata.org/pandas-docs/stable/user_guide/indexing.html#returning-a-view-versus-a-copy\n",
      "  df.rename(columns=rename_mapping, inplace=True)\n",
      "C:\\Users\\Bradl\\AppData\\Local\\Temp\\ipykernel_14112\\693618495.py:13: SettingWithCopyWarning: \n",
      "A value is trying to be set on a copy of a slice from a DataFrame\n",
      "\n",
      "See the caveats in the documentation: https://pandas.pydata.org/pandas-docs/stable/user_guide/indexing.html#returning-a-view-versus-a-copy\n",
      "  df.drop(columns=[\"categoryCode\"], inplace=True)\n"
     ]
    }
   ],
   "source": [
    "# Diccionario de mapeo: {'nombre_actual': 'nuevo_nombre'}\n",
    "rename_mapping = {\"country\": \"País\"}\n",
    "\n",
    "# Renombrar columnas y eliminar 'categoryCode' en cada DataFrame original\n",
    "for df in [\n",
    "    df_marketplace_copia_mx_motos,\n",
    "    df_marketplace_copia_cl_motos,\n",
    "    df_marketplace_copia_cl_autos,\n",
    "    df_marketplace_copia_co_motos,\n",
    "    df_marketplace_copia_pe_motos\n",
    "]:\n",
    "    df.rename(columns=rename_mapping, inplace=True)\n",
    "    df.drop(columns=[\"categoryCode\"], inplace=True)"
   ]
  },
  {
   "cell_type": "markdown",
   "metadata": {},
   "source": [
    "### Actualización de hojas"
   ]
  },
  {
   "cell_type": "code",
   "execution_count": 26,
   "metadata": {},
   "outputs": [],
   "source": [
    "# Lista de DataFrames para actualizar múltiples hojas\n",
    "dataframes_to_update = [\n",
    "    (\"MX\", df_marketplace_copia_mx_motos, \"Moto\"),\n",
    "    (\"CL\", df_marketplace_copia_cl_motos, \"Moto\"),\n",
    "    (\"CL\", df_marketplace_copia_cl_autos, \"Auto\"),\n",
    "    (\"CO\", df_marketplace_copia_co_motos, \"Moto\"),\n",
    "    (\"PE\", df_marketplace_copia_pe_motos, \"Moto\")\n",
    "]\n"
   ]
  },
  {
   "cell_type": "code",
   "execution_count": 27,
   "metadata": {},
   "outputs": [
    {
     "name": "stdout",
     "output_type": "stream",
     "text": [
      "Updated sheet: Base MX 03/11 Moto\n",
      "Updated sheet: Base CL 03/11 Moto\n",
      "Updated sheet: Base CL 03/11 Auto\n",
      "Updated sheet: Base CO 03/11 Moto\n",
      "Updated sheet: Base PE 03/11 Moto\n"
     ]
    }
   ],
   "source": [
    "google_sheet_func.actualizar_todas_las_hojas(hoja, dataframes_to_update)"
   ]
  },
  {
   "cell_type": "code",
   "execution_count": 28,
   "metadata": {},
   "outputs": [
    {
     "name": "stdout",
     "output_type": "stream",
     "text": [
      "Updated sheet: Base total 03/11\n"
     ]
    }
   ],
   "source": [
    "# Actualizar la hoja específica\n",
    "google_sheet_func.actualizar_hoja_base(hoja, df_marketplace)"
   ]
  },
  {
   "cell_type": "code",
   "execution_count": null,
   "metadata": {},
   "outputs": [],
   "source": []
  },
  {
   "cell_type": "code",
   "execution_count": null,
   "metadata": {},
   "outputs": [],
   "source": []
  }
 ],
 "metadata": {
  "kernelspec": {
   "display_name": "venv",
   "language": "python",
   "name": "python3"
  },
  "language_info": {
   "codemirror_mode": {
    "name": "ipython",
    "version": 3
   },
   "file_extension": ".py",
   "mimetype": "text/x-python",
   "name": "python",
   "nbconvert_exporter": "python",
   "pygments_lexer": "ipython3",
   "version": "3.8.0"
  }
 },
 "nbformat": 4,
 "nbformat_minor": 2
}
